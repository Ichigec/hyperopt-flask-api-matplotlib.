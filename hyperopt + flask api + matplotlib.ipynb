{
 "cells": [
  {
   "cell_type": "code",
   "execution_count": 36,
   "metadata": {},
   "outputs": [],
   "source": [
    "import pandas as pd\n",
    "import xgboost as xgb\n",
    "import numpy as np\n",
    "import sklearn\n",
    "import datetime\n",
    "import scipy as sc\n",
    "from scipy import stats\n",
    "import matplotlib.pyplot\n",
    "\n",
    "from flask import render_template, request, jsonify\n",
    "import flask\n",
    "import traceback\n",
    "import pickle\n",
    "from flask import Flask\n",
    "from sklearn.model_selection import train_test_split\n",
    "from sklearn.preprocessing import OneHotEncoder\n",
    "from hyperopt import hp, fmin, tpe, Trials, STATUS_OK, STATUS_FAIL\n",
    "\n",
    "import seaborn as sns\n",
    "from sklearn.model_selection import cross_val_score, StratifiedKFold\n",
    "from sklearn.linear_model import LogisticRegression\n",
    "from sklearn.preprocessing import StandardScaler, OneHotEncoder\n",
    "from sklearn.pipeline import Pipeline\n",
    "from sklearn.impute import SimpleImputer\n",
    "from sklearn.compose import ColumnTransformer\n",
    "\n",
    "from numpy import loadtxt\n",
    "from xgboost import XGBClassifier\n",
    "from sklearn.model_selection import GridSearchCV\n",
    "from sklearn.model_selection import StratifiedKFold\n",
    "from sklearn.model_selection import cross_val_score, KFold\n",
    "\n",
    "from sklearn.utils.multiclass import type_of_target\n",
    "\n",
    "from sklearn import preprocessing\n",
    "\n",
    "from scipy.stats import describe as des\n",
    "\n",
    "import matplotlib.pylab as plt\n",
    "from pylab import rcParams\n",
    "rcParams['figure.figsize'] = 20, 10\n",
    "#import matplotlib.pyplot as plt\n",
    "import matplotlib\n",
    "from matplotlib.backends.backend_agg import FigureCanvasAgg as FigureCanvas\n",
    "from matplotlib.figure import Figure\n",
    "import io\n",
    "import base64\n",
    "\n",
    "\n",
    "import plotly\n",
    "import plotly.graph_objs as go\n",
    "import dash\n",
    "import dash_core_components as dcc\n",
    "import dash_html_components as html\n",
    "from dash.dependencies import Input, Output\n",
    "import plotly.express as px\n",
    "\n",
    "from flask import render_template\n",
    "from bokeh.plotting import figure\n",
    "from bokeh.embed import components\n",
    "\n",
    "import json"
   ]
  },
  {
   "cell_type": "code",
   "execution_count": 3,
   "metadata": {
    "scrolled": true
   },
   "outputs": [
    {
     "data": {
      "text/html": [
       "<div>\n",
       "<style scoped>\n",
       "    .dataframe tbody tr th:only-of-type {\n",
       "        vertical-align: middle;\n",
       "    }\n",
       "\n",
       "    .dataframe tbody tr th {\n",
       "        vertical-align: top;\n",
       "    }\n",
       "\n",
       "    .dataframe thead th {\n",
       "        text-align: right;\n",
       "    }\n",
       "</style>\n",
       "<table border=\"1\" class=\"dataframe\">\n",
       "  <thead>\n",
       "    <tr style=\"text-align: right;\">\n",
       "      <th></th>\n",
       "      <th>itemid</th>\n",
       "      <th>clock</th>\n",
       "      <th>value</th>\n",
       "      <th>name</th>\n",
       "    </tr>\n",
       "  </thead>\n",
       "  <tbody>\n",
       "    <tr>\n",
       "      <th>0</th>\n",
       "      <td>6087991</td>\n",
       "      <td>1604997154</td>\n",
       "      <td>3952395092788,00</td>\n",
       "      <td>Pool free space: Pool49</td>\n",
       "    </tr>\n",
       "    <tr>\n",
       "      <th>1</th>\n",
       "      <td>6087991</td>\n",
       "      <td>1604997184</td>\n",
       "      <td>3952394989876,00</td>\n",
       "      <td>Pool free space: Pool49</td>\n",
       "    </tr>\n",
       "    <tr>\n",
       "      <th>2</th>\n",
       "      <td>6087991</td>\n",
       "      <td>1604997214</td>\n",
       "      <td>3952394754868,00</td>\n",
       "      <td>Pool free space: Pool49</td>\n",
       "    </tr>\n",
       "    <tr>\n",
       "      <th>3</th>\n",
       "      <td>6087991</td>\n",
       "      <td>1604997244</td>\n",
       "      <td>3952395080500,00</td>\n",
       "      <td>Pool free space: Pool49</td>\n",
       "    </tr>\n",
       "    <tr>\n",
       "      <th>4</th>\n",
       "      <td>6087991</td>\n",
       "      <td>1604997274</td>\n",
       "      <td>3952394868532,00</td>\n",
       "      <td>Pool free space: Pool49</td>\n",
       "    </tr>\n",
       "  </tbody>\n",
       "</table>\n",
       "</div>"
      ],
      "text/plain": [
       "    itemid       clock             value                     name\n",
       "0  6087991  1604997154  3952395092788,00  Pool free space: Pool49\n",
       "1  6087991  1604997184  3952394989876,00  Pool free space: Pool49\n",
       "2  6087991  1604997214  3952394754868,00  Pool free space: Pool49\n",
       "3  6087991  1604997244  3952395080500,00  Pool free space: Pool49\n",
       "4  6087991  1604997274  3952394868532,00  Pool free space: Pool49"
      ]
     },
     "execution_count": 3,
     "metadata": {},
     "output_type": "execute_result"
    }
   ],
   "source": [
    "df=pd.read_csv('E:\\\\datasets\\\\baum\\\\pool_free_space 22.09.20-04.12.20.csv', ';')\n",
    "df.head()"
   ]
  },
  {
   "cell_type": "markdown",
   "metadata": {},
   "source": [
    "Сделаем 'feature engineering' для времени и даты"
   ]
  },
  {
   "cell_type": "code",
   "execution_count": 4,
   "metadata": {},
   "outputs": [
    {
     "data": {
      "text/html": [
       "<div>\n",
       "<style scoped>\n",
       "    .dataframe tbody tr th:only-of-type {\n",
       "        vertical-align: middle;\n",
       "    }\n",
       "\n",
       "    .dataframe tbody tr th {\n",
       "        vertical-align: top;\n",
       "    }\n",
       "\n",
       "    .dataframe thead th {\n",
       "        text-align: right;\n",
       "    }\n",
       "</style>\n",
       "<table border=\"1\" class=\"dataframe\">\n",
       "  <thead>\n",
       "    <tr style=\"text-align: right;\">\n",
       "      <th></th>\n",
       "      <th>itemid</th>\n",
       "      <th>clock</th>\n",
       "      <th>value</th>\n",
       "      <th>name</th>\n",
       "      <th>datetime</th>\n",
       "      <th>date</th>\n",
       "    </tr>\n",
       "  </thead>\n",
       "  <tbody>\n",
       "    <tr>\n",
       "      <th>0</th>\n",
       "      <td>6087991</td>\n",
       "      <td>1604997154</td>\n",
       "      <td>3952395092788,00</td>\n",
       "      <td>Pool free space: Pool49</td>\n",
       "      <td>2020-11-10 11:32:34</td>\n",
       "      <td>2020-11-10</td>\n",
       "    </tr>\n",
       "    <tr>\n",
       "      <th>1</th>\n",
       "      <td>6087991</td>\n",
       "      <td>1604997184</td>\n",
       "      <td>3952394989876,00</td>\n",
       "      <td>Pool free space: Pool49</td>\n",
       "      <td>2020-11-10 11:33:04</td>\n",
       "      <td>2020-11-10</td>\n",
       "    </tr>\n",
       "    <tr>\n",
       "      <th>2</th>\n",
       "      <td>6087991</td>\n",
       "      <td>1604997214</td>\n",
       "      <td>3952394754868,00</td>\n",
       "      <td>Pool free space: Pool49</td>\n",
       "      <td>2020-11-10 11:33:34</td>\n",
       "      <td>2020-11-10</td>\n",
       "    </tr>\n",
       "    <tr>\n",
       "      <th>3</th>\n",
       "      <td>6087991</td>\n",
       "      <td>1604997244</td>\n",
       "      <td>3952395080500,00</td>\n",
       "      <td>Pool free space: Pool49</td>\n",
       "      <td>2020-11-10 11:34:04</td>\n",
       "      <td>2020-11-10</td>\n",
       "    </tr>\n",
       "    <tr>\n",
       "      <th>4</th>\n",
       "      <td>6087991</td>\n",
       "      <td>1604997274</td>\n",
       "      <td>3952394868532,00</td>\n",
       "      <td>Pool free space: Pool49</td>\n",
       "      <td>2020-11-10 11:34:34</td>\n",
       "      <td>2020-11-10</td>\n",
       "    </tr>\n",
       "  </tbody>\n",
       "</table>\n",
       "</div>"
      ],
      "text/plain": [
       "    itemid       clock             value                     name  \\\n",
       "0  6087991  1604997154  3952395092788,00  Pool free space: Pool49   \n",
       "1  6087991  1604997184  3952394989876,00  Pool free space: Pool49   \n",
       "2  6087991  1604997214  3952394754868,00  Pool free space: Pool49   \n",
       "3  6087991  1604997244  3952395080500,00  Pool free space: Pool49   \n",
       "4  6087991  1604997274  3952394868532,00  Pool free space: Pool49   \n",
       "\n",
       "              datetime        date  \n",
       "0  2020-11-10 11:32:34  2020-11-10  \n",
       "1  2020-11-10 11:33:04  2020-11-10  \n",
       "2  2020-11-10 11:33:34  2020-11-10  \n",
       "3  2020-11-10 11:34:04  2020-11-10  \n",
       "4  2020-11-10 11:34:34  2020-11-10  "
      ]
     },
     "execution_count": 4,
     "metadata": {},
     "output_type": "execute_result"
    }
   ],
   "source": [
    "df['datetime']=df['clock']\\\n",
    ".apply(lambda x: (datetime.datetime.fromtimestamp(x)).strftime('%Y-%m-%d %H:%M:%S'))\n",
    "df['date']=df['clock']\\\n",
    ".apply(lambda x: (datetime.datetime.fromtimestamp(x)).strftime('%Y-%m-%d'))\n",
    "df.head()"
   ]
  },
  {
   "cell_type": "code",
   "execution_count": 5,
   "metadata": {},
   "outputs": [],
   "source": [
    "#df['value']\n",
    "df['datetime']=pd.to_datetime(df['datetime'])\n",
    "df['date']=pd.to_datetime(df['date'])"
   ]
  },
  {
   "cell_type": "code",
   "execution_count": 7,
   "metadata": {},
   "outputs": [
    {
     "name": "stderr",
     "output_type": "stream",
     "text": [
      "e:\\ProgramData\\Anaconda3\\lib\\site-packages\\ipykernel_launcher.py:8: FutureWarning: Series.dt.weekofyear and Series.dt.week have been deprecated.  Please use Series.dt.isocalendar().week instead.\n",
      "  \n"
     ]
    }
   ],
   "source": [
    "df['hour']=df['datetime'].dt.hour\n",
    "df['dayofweek']=df['datetime'].dt.dayofweek\n",
    "df['quarter']=df['datetime'].dt.quarter\n",
    "df['month']=df['datetime'].dt.month\n",
    "df['year']=df['datetime'].dt.year\n",
    "df['dayofyear']=df['datetime'].dt.dayofyear\n",
    "df['dayofmonth']=df['datetime'].dt.day\n",
    "df['weekofyear']=df['datetime'].dt.weekofyear\n",
    "df['minute']=df['datetime'].dt.minute\n",
    "df['second']=df['datetime'].dt.second"
   ]
  },
  {
   "cell_type": "markdown",
   "metadata": {},
   "source": [
    "Данные плохо качества (у числового поля формат - object), надо трансформировать в число."
   ]
  },
  {
   "cell_type": "code",
   "execution_count": 6,
   "metadata": {},
   "outputs": [],
   "source": [
    "df['value']=df['value'].apply(lambda x: float(x.replace(',','.')))"
   ]
  },
  {
   "cell_type": "markdown",
   "metadata": {},
   "source": [
    "Добавим категориальных переменных"
   ]
  },
  {
   "cell_type": "code",
   "execution_count": 8,
   "metadata": {},
   "outputs": [],
   "source": [
    "df=pd.get_dummies(df, columns=['itemid', 'name'])"
   ]
  },
  {
   "cell_type": "code",
   "execution_count": 9,
   "metadata": {
    "scrolled": true
   },
   "outputs": [
    {
     "data": {
      "text/html": [
       "<div>\n",
       "<style scoped>\n",
       "    .dataframe tbody tr th:only-of-type {\n",
       "        vertical-align: middle;\n",
       "    }\n",
       "\n",
       "    .dataframe tbody tr th {\n",
       "        vertical-align: top;\n",
       "    }\n",
       "\n",
       "    .dataframe thead th {\n",
       "        text-align: right;\n",
       "    }\n",
       "</style>\n",
       "<table border=\"1\" class=\"dataframe\">\n",
       "  <thead>\n",
       "    <tr style=\"text-align: right;\">\n",
       "      <th></th>\n",
       "      <th>clock</th>\n",
       "      <th>value</th>\n",
       "      <th>datetime</th>\n",
       "      <th>date</th>\n",
       "      <th>hour</th>\n",
       "      <th>dayofweek</th>\n",
       "      <th>quarter</th>\n",
       "      <th>month</th>\n",
       "      <th>year</th>\n",
       "      <th>dayofyear</th>\n",
       "      <th>dayofmonth</th>\n",
       "      <th>weekofyear</th>\n",
       "      <th>minute</th>\n",
       "      <th>second</th>\n",
       "      <th>itemid_6086590</th>\n",
       "      <th>itemid_6086591</th>\n",
       "      <th>itemid_6087991</th>\n",
       "      <th>itemid_6088159</th>\n",
       "      <th>name_Pool free space: Pool49</th>\n",
       "      <th>name_Pool free space: Pool50</th>\n",
       "    </tr>\n",
       "  </thead>\n",
       "  <tbody>\n",
       "    <tr>\n",
       "      <th>0</th>\n",
       "      <td>1604997154</td>\n",
       "      <td>3952395092788,00</td>\n",
       "      <td>2020-11-10 11:32:34</td>\n",
       "      <td>2020-11-10</td>\n",
       "      <td>11</td>\n",
       "      <td>1</td>\n",
       "      <td>4</td>\n",
       "      <td>11</td>\n",
       "      <td>2020</td>\n",
       "      <td>315</td>\n",
       "      <td>10</td>\n",
       "      <td>46</td>\n",
       "      <td>32</td>\n",
       "      <td>34</td>\n",
       "      <td>0</td>\n",
       "      <td>0</td>\n",
       "      <td>1</td>\n",
       "      <td>0</td>\n",
       "      <td>1</td>\n",
       "      <td>0</td>\n",
       "    </tr>\n",
       "    <tr>\n",
       "      <th>1</th>\n",
       "      <td>1604997184</td>\n",
       "      <td>3952394989876,00</td>\n",
       "      <td>2020-11-10 11:33:04</td>\n",
       "      <td>2020-11-10</td>\n",
       "      <td>11</td>\n",
       "      <td>1</td>\n",
       "      <td>4</td>\n",
       "      <td>11</td>\n",
       "      <td>2020</td>\n",
       "      <td>315</td>\n",
       "      <td>10</td>\n",
       "      <td>46</td>\n",
       "      <td>33</td>\n",
       "      <td>4</td>\n",
       "      <td>0</td>\n",
       "      <td>0</td>\n",
       "      <td>1</td>\n",
       "      <td>0</td>\n",
       "      <td>1</td>\n",
       "      <td>0</td>\n",
       "    </tr>\n",
       "    <tr>\n",
       "      <th>2</th>\n",
       "      <td>1604997214</td>\n",
       "      <td>3952394754868,00</td>\n",
       "      <td>2020-11-10 11:33:34</td>\n",
       "      <td>2020-11-10</td>\n",
       "      <td>11</td>\n",
       "      <td>1</td>\n",
       "      <td>4</td>\n",
       "      <td>11</td>\n",
       "      <td>2020</td>\n",
       "      <td>315</td>\n",
       "      <td>10</td>\n",
       "      <td>46</td>\n",
       "      <td>33</td>\n",
       "      <td>34</td>\n",
       "      <td>0</td>\n",
       "      <td>0</td>\n",
       "      <td>1</td>\n",
       "      <td>0</td>\n",
       "      <td>1</td>\n",
       "      <td>0</td>\n",
       "    </tr>\n",
       "    <tr>\n",
       "      <th>3</th>\n",
       "      <td>1604997244</td>\n",
       "      <td>3952395080500,00</td>\n",
       "      <td>2020-11-10 11:34:04</td>\n",
       "      <td>2020-11-10</td>\n",
       "      <td>11</td>\n",
       "      <td>1</td>\n",
       "      <td>4</td>\n",
       "      <td>11</td>\n",
       "      <td>2020</td>\n",
       "      <td>315</td>\n",
       "      <td>10</td>\n",
       "      <td>46</td>\n",
       "      <td>34</td>\n",
       "      <td>4</td>\n",
       "      <td>0</td>\n",
       "      <td>0</td>\n",
       "      <td>1</td>\n",
       "      <td>0</td>\n",
       "      <td>1</td>\n",
       "      <td>0</td>\n",
       "    </tr>\n",
       "    <tr>\n",
       "      <th>4</th>\n",
       "      <td>1604997274</td>\n",
       "      <td>3952394868532,00</td>\n",
       "      <td>2020-11-10 11:34:34</td>\n",
       "      <td>2020-11-10</td>\n",
       "      <td>11</td>\n",
       "      <td>1</td>\n",
       "      <td>4</td>\n",
       "      <td>11</td>\n",
       "      <td>2020</td>\n",
       "      <td>315</td>\n",
       "      <td>10</td>\n",
       "      <td>46</td>\n",
       "      <td>34</td>\n",
       "      <td>34</td>\n",
       "      <td>0</td>\n",
       "      <td>0</td>\n",
       "      <td>1</td>\n",
       "      <td>0</td>\n",
       "      <td>1</td>\n",
       "      <td>0</td>\n",
       "    </tr>\n",
       "  </tbody>\n",
       "</table>\n",
       "</div>"
      ],
      "text/plain": [
       "        clock             value            datetime       date  hour  \\\n",
       "0  1604997154  3952395092788,00 2020-11-10 11:32:34 2020-11-10    11   \n",
       "1  1604997184  3952394989876,00 2020-11-10 11:33:04 2020-11-10    11   \n",
       "2  1604997214  3952394754868,00 2020-11-10 11:33:34 2020-11-10    11   \n",
       "3  1604997244  3952395080500,00 2020-11-10 11:34:04 2020-11-10    11   \n",
       "4  1604997274  3952394868532,00 2020-11-10 11:34:34 2020-11-10    11   \n",
       "\n",
       "   dayofweek  quarter  month  year  dayofyear  dayofmonth  weekofyear  minute  \\\n",
       "0          1        4     11  2020        315          10          46      32   \n",
       "1          1        4     11  2020        315          10          46      33   \n",
       "2          1        4     11  2020        315          10          46      33   \n",
       "3          1        4     11  2020        315          10          46      34   \n",
       "4          1        4     11  2020        315          10          46      34   \n",
       "\n",
       "   second  itemid_6086590  itemid_6086591  itemid_6087991  itemid_6088159  \\\n",
       "0      34               0               0               1               0   \n",
       "1       4               0               0               1               0   \n",
       "2      34               0               0               1               0   \n",
       "3       4               0               0               1               0   \n",
       "4      34               0               0               1               0   \n",
       "\n",
       "   name_Pool free space: Pool49  name_Pool free space: Pool50  \n",
       "0                             1                             0  \n",
       "1                             1                             0  \n",
       "2                             1                             0  \n",
       "3                             1                             0  \n",
       "4                             1                             0  "
      ]
     },
     "execution_count": 9,
     "metadata": {},
     "output_type": "execute_result"
    }
   ],
   "source": [
    "df.head()"
   ]
  },
  {
   "cell_type": "code",
   "execution_count": 10,
   "metadata": {},
   "outputs": [],
   "source": [
    "xtrain, xtest, ytrain, ytest=train_test_split(df[['itemid_6086590', 'itemid_6086591', 'itemid_6087991',\n",
    "       'itemid_6088159', 'name_Pool free space: Pool49',\n",
    "       'name_Pool free space: Pool50', 'hour',\n",
    "       'dayofweek', 'quarter', 'month', 'year', 'dayofyear', 'dayofmonth',\n",
    "       'weekofyear', 'minute', 'second']], df['value'], test_size=0.15)\n"
   ]
  },
  {
   "cell_type": "markdown",
   "metadata": {},
   "source": [
    "Не понравились мне результаты грид серча, решил вот попробовать hyperopt и вроде по метрике MSE дала на несколько порядков лучше показатели, да ещё и за короткое время относительно."
   ]
  },
  {
   "cell_type": "code",
   "execution_count": 11,
   "metadata": {},
   "outputs": [],
   "source": [
    "xgb_reg_params = {\n",
    "    'learning_rate':    hp.choice('learning_rate',    np.arange(0.05, 0.41, 0.05)),\n",
    "    'gamma':            hp.choice('gamma',            np.arange(0.05, 0.41, 0.05)),\n",
    "    'reg_alpha':        hp.choice('reg_alpha',        np.arange(0.05, 1, 0.05)),\n",
    "    'reg_lambda':       hp.choice('reg_lambda',       np.arange(0.05, 1, 0.05)),\n",
    "    'max_depth':        hp.choice('max_depth',        np.arange(2, 20, 1, dtype=int)),\n",
    "    'min_child_weight': hp.choice('min_child_weight', np.arange(1, 12, 1, dtype=int)),\n",
    "    'colsample_bytree': hp.choice('colsample_bytree', np.arange(0.3, 0.8, 0.1)),\n",
    "    'subsample':        hp.uniform('subsample', 0.8, 1),\n",
    "    'n_estimators':     hp.choice('n_estimators',     np.arange(10, 500, 10)),\n",
    "}\n",
    "xgb_fit_params = {\n",
    "    'eval_metric': 'rmse',\n",
    "    'early_stopping_rounds': 10,\n",
    "    'verbose': False\n",
    "}\n",
    "xgb_para = dict()\n",
    "xgb_para['reg_params'] = xgb_reg_params\n",
    "xgb_para['fit_params'] = xgb_fit_params\n",
    "xgb_para['loss_func' ] = lambda y, pred: np.sqrt(mean_squared_error(y, pred))\n"
   ]
  },
  {
   "cell_type": "code",
   "execution_count": 12,
   "metadata": {},
   "outputs": [],
   "source": [
    "class HPOpt(object):\n",
    "\n",
    "    def __init__(self, xtrain, xtest, ytrain, ytest):\n",
    "        self.x_train = xtrain\n",
    "        self.x_test  = xtest\n",
    "        self.y_train = ytrain\n",
    "        self.y_test  = ytest\n",
    "\n",
    "    def process(self, fn_name, space, trials, algo, max_evals):\n",
    "        fn = getattr(self, fn_name)\n",
    "        try:\n",
    "            result = fmin(fn=fn, space=space, algo=algo, max_evals=max_evals, trials=trials)\n",
    "        except Exception as e:\n",
    "            return {'status': STATUS_FAIL,\n",
    "                    'exception': str(e)}\n",
    "        return result, trials\n",
    "\n",
    "    def xgb_reg(self, para):\n",
    "        reg = xgb.XGBRegressor(**para['reg_params'])\n",
    "        return self.train_reg(reg, para)\n",
    "    \n",
    "    def train_reg(self, reg, para):\n",
    "        reg.fit(self.x_train, self.y_train,\n",
    "                eval_set=[(self.x_train, self.y_train), (self.x_test, self.y_test)],\n",
    "                **para['fit_params'])\n",
    "        pred = reg.predict(self.x_test)\n",
    "        loss = para['loss_func'](self.y_test, pred)\n",
    "        return {'loss': loss, 'status': STATUS_OK}"
   ]
  },
  {
   "cell_type": "code",
   "execution_count": null,
   "metadata": {},
   "outputs": [],
   "source": [
    "obj = HPOpt(xtrain, xtest, ytrain, ytest)\n",
    "\n",
    "xgb_opt = obj.process(fn_name='xgb_reg', space=xgb_para, trials=Trials(), algo=tpe.suggest, max_evals=100)"
   ]
  },
  {
   "cell_type": "code",
   "execution_count": 204,
   "metadata": {},
   "outputs": [
    {
     "data": {
      "text/plain": [
       "({'colsample_bytree': 4,\n",
       "  'learning_rate': 4,\n",
       "  'max_depth': 9,\n",
       "  'min_child_weight': 1,\n",
       "  'subsample': 0.9634691113577399},\n",
       " <hyperopt.base.Trials at 0x22f615d67c8>)"
      ]
     },
     "execution_count": 204,
     "metadata": {},
     "output_type": "execute_result"
    }
   ],
   "source": [
    "xgb_opt"
   ]
  },
  {
   "cell_type": "code",
   "execution_count": 206,
   "metadata": {},
   "outputs": [
    {
     "name": "stdout",
     "output_type": "stream",
     "text": [
      "100%|███████████████████████████████████████████████| 100/100 [34:33<00:00, 20.74s/trial, best loss: 7180562539.446937]\n"
     ]
    }
   ],
   "source": [
    "obj = HPOpt(xtrain, xtest, ytrain, ytest)\n",
    "\n",
    "xgb_opt = obj.process(fn_name='xgb_reg', space=xgb_para, trials=Trials(), algo=tpe.suggest, max_evals=100)"
   ]
  },
  {
   "cell_type": "code",
   "execution_count": 207,
   "metadata": {
    "scrolled": false
   },
   "outputs": [
    {
     "data": {
      "text/plain": [
       "({'colsample_bytree': 3,\n",
       "  'gamma': 1,\n",
       "  'learning_rate': 4,\n",
       "  'max_depth': 10,\n",
       "  'min_child_weight': 2,\n",
       "  'n_estimators': 41,\n",
       "  'reg_alpha': 5,\n",
       "  'reg_lambda': 13,\n",
       "  'subsample': 0.9616547645808519},\n",
       " <hyperopt.base.Trials at 0x22f6d935bc8>)"
      ]
     },
     "execution_count": 207,
     "metadata": {},
     "output_type": "execute_result"
    }
   ],
   "source": [
    "xgb_opt"
   ]
  },
  {
   "cell_type": "code",
   "execution_count": 28,
   "metadata": {},
   "outputs": [
    {
     "name": "stdout",
     "output_type": "stream",
     "text": [
      "0.6000000000000001 0.1 0.25 12 3 420 0.3 0.7000000000000001 0.9616547645808519\n"
     ]
    }
   ],
   "source": [
    "print (np.arange(0.3, 0.8, 0.1)[3], np.arange(0.05, 0.41, 0.05)[1], np.arange(0.05, 0.41, 0.05)[4],\n",
    "np.arange(2, 20, 1, dtype=int)[10], np.arange(1, 12, 1, dtype=int)[2], np.arange(10, 500, 10)[41],\n",
    "np.arange(0.05, 1, 0.05)[5], np.arange(0.05, 1, 0.05)[13], 0.9616547645808519)"
   ]
  },
  {
   "cell_type": "markdown",
   "metadata": {},
   "source": [
    "Обучаем модель на получившихся параметрах."
   ]
  },
  {
   "cell_type": "code",
   "execution_count": 29,
   "metadata": {},
   "outputs": [
    {
     "data": {
      "text/plain": [
       "XGBRegressor(base_score=0.5, booster='gbtree', colsample_bylevel=1,\n",
       "             colsample_bynode=1, colsample_bytree=0.6, gamma=0.1, gpu_id=-1,\n",
       "             importance_type='gain', interaction_constraints='',\n",
       "             learning_rate=0.25, max_delta_step=0, max_depth=12,\n",
       "             min_child_weight=3, missing=nan, monotone_constraints='()',\n",
       "             n_estimators=420, n_jobs=0, num_parallel_tree=1, random_state=0,\n",
       "             reg_alpha=0.3, reg_lambda=0.7, scale_pos_weight=1,\n",
       "             subsample=0.9616547645808519, tree_method='exact',\n",
       "             validate_parameters=1, verbosity=None)"
      ]
     },
     "execution_count": 29,
     "metadata": {},
     "output_type": "execute_result"
    }
   ],
   "source": [
    "xgbr = xgb.XGBRegressor(colsample_bytree=0.6, gamma=0.1, learning_rate=0.25, max_depth=12, \n",
    "                        min_child_weight=3, n_estimators=420, reg_alpha=0.3, reg_lambda=0.7, subsample=0.9616547645808519) \n",
    "xgbr.fit(xtrain, ytrain)"
   ]
  },
  {
   "cell_type": "code",
   "execution_count": 221,
   "metadata": {
    "scrolled": true
   },
   "outputs": [
    {
     "data": {
      "text/plain": [
       "({'colsample_bytree': 3,\n",
       "  'gamma': 1,\n",
       "  'learning_rate': 4,\n",
       "  'max_depth': 10,\n",
       "  'min_child_weight': 2,\n",
       "  'n_estimators': 41,\n",
       "  'reg_alpha': 5,\n",
       "  'reg_lambda': 13,\n",
       "  'subsample': 0.9616547645808519},\n",
       " <hyperopt.base.Trials at 0x22f6d935bc8>)"
      ]
     },
     "execution_count": 221,
     "metadata": {},
     "output_type": "execute_result"
    }
   ],
   "source": [
    "xgb_opt"
   ]
  },
  {
   "cell_type": "markdown",
   "metadata": {},
   "source": [
    "Подготовим данные для тестирования модели в приложении"
   ]
  },
  {
   "cell_type": "code",
   "execution_count": 70,
   "metadata": {},
   "outputs": [],
   "source": [
    "df1=pd.read_csv('E:\\\\datasets\\\\baum\\\\pool_free_space 22.09.20-04.12.20.csv', ';')\n",
    "df1.loc[xtest.index].drop(columns='value').to_json('E:\\\\datasets\\\\baum\\\\test.json', orient='records')"
   ]
  },
  {
   "cell_type": "code",
   "execution_count": 71,
   "metadata": {},
   "outputs": [],
   "source": [
    "test=pd.read_json('E:\\\\datasets\\\\baum\\\\test.json')#, orient='records')"
   ]
  },
  {
   "cell_type": "code",
   "execution_count": 50,
   "metadata": {},
   "outputs": [],
   "source": [
    "pickle.dump(xgbr, open('E:\\\\datasets\\\\baum\\\\xgbr.txt', \"wb\"))"
   ]
  },
  {
   "cell_type": "code",
   "execution_count": 51,
   "metadata": {},
   "outputs": [],
   "source": [
    "xgb_model_loaded = pickle.load(open('E:\\\\datasets\\\\baum\\\\xgbr.txt', \"rb\"))\n"
   ]
  },
  {
   "cell_type": "code",
   "execution_count": 23,
   "metadata": {},
   "outputs": [
    {
     "data": {
      "text/html": [
       "<div>\n",
       "<style scoped>\n",
       "    .dataframe tbody tr th:only-of-type {\n",
       "        vertical-align: middle;\n",
       "    }\n",
       "\n",
       "    .dataframe tbody tr th {\n",
       "        vertical-align: top;\n",
       "    }\n",
       "\n",
       "    .dataframe thead th {\n",
       "        text-align: right;\n",
       "    }\n",
       "</style>\n",
       "<table border=\"1\" class=\"dataframe\">\n",
       "  <thead>\n",
       "    <tr style=\"text-align: right;\">\n",
       "      <th></th>\n",
       "      <th>itemid</th>\n",
       "      <th>clock</th>\n",
       "      <th>value</th>\n",
       "      <th>name</th>\n",
       "    </tr>\n",
       "  </thead>\n",
       "  <tbody>\n",
       "  </tbody>\n",
       "</table>\n",
       "</div>"
      ],
      "text/plain": [
       "Empty DataFrame\n",
       "Columns: [itemid, clock, value, name]\n",
       "Index: []"
      ]
     },
     "execution_count": 23,
     "metadata": {},
     "output_type": "execute_result"
    }
   ],
   "source": [
    "final_predictions=pd.read_csv('E:\\\\datasets\\\\baum\\\\pool_free_space 22.09.20-04.12.20.csv', ';', nrows=0)\n",
    "final_predictions"
   ]
  },
  {
   "cell_type": "markdown",
   "metadata": {},
   "source": [
    "Приложение для отрисовки данных полученных данных"
   ]
  },
  {
   "cell_type": "code",
   "execution_count": 42,
   "metadata": {},
   "outputs": [
    {
     "name": "stdout",
     "output_type": "stream",
     "text": [
      " * Serving Flask app \"__main__\" (lazy loading)\n",
      " * Environment: production\n",
      "   WARNING: This is a development server. Do not use it in a production deployment.\n",
      "   Use a production WSGI server instead.\n",
      " * Debug mode: off\n"
     ]
    },
    {
     "name": "stderr",
     "output_type": "stream",
     "text": [
      " * Running on http://127.0.0.1:5000/ (Press CTRL+C to quit)\n",
      "127.0.0.1 - - [04/Mar/2021 11:35:00] \"\u001b[37mGET /dashboard HTTP/1.1\u001b[0m\" 200 -\n",
      "127.0.0.1 - - [04/Mar/2021 11:35:07] \"\u001b[37mGET /dashboard HTTP/1.1\u001b[0m\" 200 -\n",
      "IOPub data rate exceeded.\n",
      "The notebook server will temporarily stop sending output\n",
      "to the client in order to avoid crashing it.\n",
      "To change this limit, set the config variable\n",
      "`--NotebookApp.iopub_data_rate_limit`.\n",
      "\n",
      "Current values:\n",
      "NotebookApp.iopub_data_rate_limit=1000000.0 (bytes/sec)\n",
      "NotebookApp.rate_limit_window=3.0 (secs)\n",
      "\n",
      "e:\\ProgramData\\Anaconda3\\lib\\site-packages\\ipykernel_launcher.py:81: FutureWarning: Series.dt.weekofyear and Series.dt.week have been deprecated.  Please use Series.dt.isocalendar().week instead.\n"
     ]
    },
    {
     "name": "stdout",
     "output_type": "stream",
     "text": [
      "Loading the model...\n",
      "The model has been loaded...doing predictions now...\n"
     ]
    },
    {
     "name": "stderr",
     "output_type": "stream",
     "text": [
      "127.0.0.1 - - [04/Mar/2021 11:35:26] \"\u001b[37mPOST /predict HTTP/1.1\u001b[0m\" 200 -\n",
      "127.0.0.1 - - [04/Mar/2021 11:35:31] \"\u001b[37mGET /dashboard HTTP/1.1\u001b[0m\" 200 -\n",
      "[2021-03-04 11:42:32,818] ERROR in app: Exception on /predict [POST]\n",
      "Traceback (most recent call last):\n",
      "  File \"e:\\ProgramData\\Anaconda3\\lib\\site-packages\\flask\\app.py\", line 2447, in wsgi_app\n",
      "    response = self.full_dispatch_request()\n",
      "  File \"e:\\ProgramData\\Anaconda3\\lib\\site-packages\\flask\\app.py\", line 1952, in full_dispatch_request\n",
      "    rv = self.handle_user_exception(e)\n",
      "  File \"e:\\ProgramData\\Anaconda3\\lib\\site-packages\\flask\\app.py\", line 1821, in handle_user_exception\n",
      "    reraise(exc_type, exc_value, tb)\n",
      "  File \"e:\\ProgramData\\Anaconda3\\lib\\site-packages\\flask\\_compat.py\", line 39, in reraise\n",
      "    raise value\n",
      "  File \"e:\\ProgramData\\Anaconda3\\lib\\site-packages\\flask\\app.py\", line 1950, in full_dispatch_request\n",
      "    rv = self.dispatch_request()\n",
      "  File \"e:\\ProgramData\\Anaconda3\\lib\\site-packages\\flask\\app.py\", line 1936, in dispatch_request\n",
      "    return self.view_functions[rule.endpoint](**req.view_args)\n",
      "  File \"<ipython-input-42-1c8b4b5bfc30>\", line 90, in apicall\n",
      "    raise e\n",
      "  File \"<ipython-input-42-1c8b4b5bfc30>\", line 59, in apicall\n",
      "    test1 = pd.read_json(test_json, orient='records')\n",
      "  File \"e:\\ProgramData\\Anaconda3\\lib\\site-packages\\pandas\\util\\_decorators.py\", line 199, in wrapper\n",
      "    return func(*args, **kwargs)\n",
      "  File \"e:\\ProgramData\\Anaconda3\\lib\\site-packages\\pandas\\util\\_decorators.py\", line 299, in wrapper\n",
      "    return func(*args, **kwargs)\n",
      "  File \"e:\\ProgramData\\Anaconda3\\lib\\site-packages\\pandas\\io\\json\\_json.py\", line 556, in read_json\n",
      "    storage_options=storage_options,\n",
      "  File \"e:\\ProgramData\\Anaconda3\\lib\\site-packages\\pandas\\io\\json\\_json.py\", line 622, in __init__\n",
      "    data = self._get_data_from_filepath(filepath_or_buffer)\n",
      "  File \"e:\\ProgramData\\Anaconda3\\lib\\site-packages\\pandas\\io\\json\\_json.py\", line 664, in _get_data_from_filepath\n",
      "    storage_options=self.storage_options,\n",
      "  File \"e:\\ProgramData\\Anaconda3\\lib\\site-packages\\pandas\\io\\common.py\", line 563, in get_handle\n",
      "    storage_options=storage_options,\n",
      "  File \"e:\\ProgramData\\Anaconda3\\lib\\site-packages\\pandas\\io\\common.py\", line 371, in _get_filepath_or_buffer\n",
      "    raise ValueError(msg)\n",
      "ValueError: Invalid file path or buffer object type: <class 'dict'>\n",
      "127.0.0.1 - - [04/Mar/2021 11:42:32] \"\u001b[35m\u001b[1mPOST /predict HTTP/1.1\u001b[0m\" 500 -\n",
      "IOPub data rate exceeded.\n",
      "The notebook server will temporarily stop sending output\n",
      "to the client in order to avoid crashing it.\n",
      "To change this limit, set the config variable\n",
      "`--NotebookApp.iopub_data_rate_limit`.\n",
      "\n",
      "Current values:\n",
      "NotebookApp.iopub_data_rate_limit=1000000.0 (bytes/sec)\n",
      "NotebookApp.rate_limit_window=3.0 (secs)\n",
      "\n"
     ]
    },
    {
     "name": "stdout",
     "output_type": "stream",
     "text": [
      "E:\\datasets\\baum\\test.json\n"
     ]
    },
    {
     "name": "stderr",
     "output_type": "stream",
     "text": [
      "e:\\ProgramData\\Anaconda3\\lib\\site-packages\\ipykernel_launcher.py:81: FutureWarning: Series.dt.weekofyear and Series.dt.week have been deprecated.  Please use Series.dt.isocalendar().week instead.\n"
     ]
    },
    {
     "name": "stdout",
     "output_type": "stream",
     "text": [
      "Loading the model...\n",
      "The model has been loaded...doing predictions now...\n"
     ]
    },
    {
     "name": "stderr",
     "output_type": "stream",
     "text": [
      "127.0.0.1 - - [04/Mar/2021 11:42:56] \"\u001b[37mPOST /predict HTTP/1.1\u001b[0m\" 200 -\n",
      "IOPub data rate exceeded.\n",
      "The notebook server will temporarily stop sending output\n",
      "to the client in order to avoid crashing it.\n",
      "To change this limit, set the config variable\n",
      "`--NotebookApp.iopub_data_rate_limit`.\n",
      "\n",
      "Current values:\n",
      "NotebookApp.iopub_data_rate_limit=1000000.0 (bytes/sec)\n",
      "NotebookApp.rate_limit_window=3.0 (secs)\n",
      "\n",
      "e:\\ProgramData\\Anaconda3\\lib\\site-packages\\ipykernel_launcher.py:81: FutureWarning: Series.dt.weekofyear and Series.dt.week have been deprecated.  Please use Series.dt.isocalendar().week instead.\n"
     ]
    },
    {
     "name": "stdout",
     "output_type": "stream",
     "text": [
      "Loading the model...\n",
      "The model has been loaded...doing predictions now...\n"
     ]
    },
    {
     "name": "stderr",
     "output_type": "stream",
     "text": [
      "127.0.0.1 - - [04/Mar/2021 11:43:32] \"\u001b[37mPOST /predict HTTP/1.1\u001b[0m\" 200 -\n",
      "IOPub data rate exceeded.\n",
      "The notebook server will temporarily stop sending output\n",
      "to the client in order to avoid crashing it.\n",
      "To change this limit, set the config variable\n",
      "`--NotebookApp.iopub_data_rate_limit`.\n",
      "\n",
      "Current values:\n",
      "NotebookApp.iopub_data_rate_limit=1000000.0 (bytes/sec)\n",
      "NotebookApp.rate_limit_window=3.0 (secs)\n",
      "\n",
      "e:\\ProgramData\\Anaconda3\\lib\\site-packages\\ipykernel_launcher.py:81: FutureWarning: Series.dt.weekofyear and Series.dt.week have been deprecated.  Please use Series.dt.isocalendar().week instead.\n"
     ]
    },
    {
     "name": "stdout",
     "output_type": "stream",
     "text": [
      "Loading the model...\n",
      "The model has been loaded...doing predictions now...\n"
     ]
    },
    {
     "name": "stderr",
     "output_type": "stream",
     "text": [
      "127.0.0.1 - - [04/Mar/2021 11:43:40] \"\u001b[37mPOST /predict HTTP/1.1\u001b[0m\" 200 -\n"
     ]
    }
   ],
   "source": [
    "app = Flask(__name__, template_folder='E:\\\\datasets\\\\baum\\\\',\n",
    "            static_folder='E:\\\\datasets\\\\baum\\\\', static_url_path = \"\")#__name__\n",
    "\n",
    "@app.route('/dashboard', methods=['GET'])\n",
    "#def main():\n",
    "#return ('time series from Baum Prediction')\n",
    "def chartTest():\n",
    "    global final_predictions\n",
    "    \n",
    "    df=pd.read_csv('E:\\\\datasets\\\\baum\\\\pool_free_space 22.09.20-04.12.20.csv', ';')\n",
    "    df['date']=df['clock'].apply(lambda x: (datetime.datetime.fromtimestamp(x)).strftime('%Y-%m-%d'))\n",
    "    df['date']=pd.to_datetime(df['date'])\n",
    "    df['value']=df['value'].apply(lambda x: float(x.replace(',','.')))\n",
    "    #df=df.sort_values(by='date')\n",
    "    df=df.groupby(['date'])['value'].sum().reset_index()\n",
    "    data=final_predictions.copy()\n",
    "    data['date']=data['clock']\\\n",
    "    .apply(lambda x: (datetime.datetime.fromtimestamp(x)).strftime('%Y-%m-%d'))\n",
    "    data['date']=pd.to_datetime(data['date'])\n",
    "    data=data.groupby(['date'])['value'].sum().reset_index()\n",
    "    \n",
    "    fig = Figure()\n",
    "    axis = fig.add_subplot(1, 1, 1)\n",
    "    axis.set_title(\"title\")\n",
    "    axis.set_xlabel(\"x-axis\")\n",
    "    axis.set_ylabel(\"y-axis\")\n",
    "    axis.grid()\n",
    "    axis.plot(data['date'], data['value'], color = 'green')\n",
    "    axis.plot(df['date'], df['value'], color = 'red')\n",
    "    #lnprice=np.log(price)\n",
    "    #plt.plot(df['date'], df['value'], color = 'red')  \n",
    "    \n",
    "    #plt.plot(data['date'], data['value'], color = 'green')   \n",
    "    #plt.savefig('new_plot.png')\n",
    "    pngImage = io.BytesIO()\n",
    "    FigureCanvas(fig).print_png(pngImage)\n",
    "    \n",
    "    # Encode PNG image to base64 string\n",
    "    pngImageB64String = \"data:image/png;base64,\"\n",
    "    pngImageB64String += base64.b64encode(pngImage.getvalue()).decode('utf8')\n",
    "    \n",
    "\n",
    "    return render_template('untitled1.html', name = 'График временного ряда', image=pngImageB64String)#, url ='new_plot.png')   \n",
    "\n",
    "\n",
    "@app.route('/predict', methods=['POST'])\n",
    "#def main():\n",
    "   # return ('time series from Baum Prediction')\n",
    "\n",
    "def apicall():\n",
    "    \"\"\"API Call\n",
    "\n",
    "    Pandas dataframe (sent as a payload) from API Call\n",
    "    \"\"\"\n",
    "    global final_predictions \n",
    "    try:\n",
    "        test_json = request.get_json()\n",
    "        print (test_json)\n",
    "        test1 = pd.read_json(test_json, orient='records')\n",
    "        test=test1.copy()\n",
    "\n",
    "        #To resolve the issue of TypeError: Cannot compare types 'ndarray(dtype=int64)' and 'str'\n",
    "        test['datetime']=test['clock']\\\n",
    "        .apply(lambda x: (datetime.datetime.fromtimestamp(x)).strftime('%Y-%m-%d %H:%M:%S'))\n",
    "        test['date']=test['clock']\\\n",
    "        .apply(lambda x: (datetime.datetime.fromtimestamp(x)).strftime('%Y-%m-%d'))\n",
    "        \n",
    "        \n",
    "        test['datetime']=pd.to_datetime(test['datetime'])\n",
    "        test['date']=pd.to_datetime(test['date'])\n",
    "\n",
    "        test['datetime']=pd.to_datetime(test['datetime'])\n",
    "        test['date']=pd.to_datetime(test['date'])\n",
    "        test['hour']=test['datetime'].dt.hour\n",
    "        test['dayofweek']=test['datetime'].dt.dayofweek\n",
    "        test['quarter']=test['datetime'].dt.quarter\n",
    "        test['month']=test['datetime'].dt.month\n",
    "        test['year']=test['datetime'].dt.year\n",
    "        test['dayofyear']=test['datetime'].dt.dayofyear\n",
    "        test['dayofmonth']=test['datetime'].dt.day\n",
    "        test['weekofyear']=test['datetime'].dt.weekofyear\n",
    "        test['minute']=test['datetime'].dt.minute\n",
    "        test['second']=test['datetime'].dt.second\n",
    "        \n",
    "        test=pd.get_dummies(test, columns=['itemid', 'name'])\n",
    "        #Getting the Loan_IDs separated out\n",
    "        #loan_ids = test['Loan_ID']\n",
    "\n",
    "    except Exception as e:\n",
    "        raise e\n",
    "\n",
    "    #reg = 'model_v1.pk'\n",
    "\n",
    "    if test.empty:\n",
    "        return(bad_request())\n",
    "    else:\n",
    "        #Load the saved model\n",
    "        print(\"Loading the model...\")\n",
    "        #loaded_model = None\n",
    "        loaded_model = pickle.load(open('E:\\\\datasets\\\\baum\\\\xgbr.txt', \"rb\"))\n",
    "        \n",
    "\n",
    "        print(\"The model has been loaded...doing predictions now...\")\n",
    "        #print (test.dtypes)\n",
    "        #print (test['clock'].iloc[:5])\n",
    "        l=['itemid_6086590', 'itemid_6086591', 'itemid_6087991', 'itemid_6088159', \n",
    "           'name_Pool free space: Pool49',\n",
    "           'name_Pool free space: Pool50', 'hour', 'dayofweek', 'quarter', 'month',\n",
    "           'year', 'dayofyear', 'dayofmonth', 'weekofyear', 'minute', 'second']#list(test.columns)[3:]\n",
    "        for i in l:\n",
    "            if i not in test:\n",
    "                test[i]=0\n",
    "        predictions = loaded_model.predict(test[l])\n",
    "\n",
    "        \"\"\"Add the predictions as Series to a new pandas dataframe\n",
    "                                OR\n",
    "           Depending on the use-case, the entire test data appended with the new files\n",
    "        \"\"\"\n",
    "        test1['value']=predictions\n",
    "        final_predictions=test1\n",
    "        \n",
    "        \"\"\"We can be as creative in sending the responses.\n",
    "           But we need to send the response codes as well.\n",
    "        \"\"\"\n",
    "        responses = jsonify(final_predictions.to_json(orient=\"records\"))\n",
    "        \n",
    "        responses.status_code = 200\n",
    "\n",
    "        return (responses)\n",
    "if __name__ == \"__main__\":\n",
    "    app.run()"
   ]
  },
  {
   "cell_type": "code",
   "execution_count": null,
   "metadata": {},
   "outputs": [],
   "source": []
  }
 ],
 "metadata": {
  "kernelspec": {
   "display_name": "Python 3",
   "language": "python",
   "name": "python3"
  },
  "language_info": {
   "codemirror_mode": {
    "name": "ipython",
    "version": 3
   },
   "file_extension": ".py",
   "mimetype": "text/x-python",
   "name": "python",
   "nbconvert_exporter": "python",
   "pygments_lexer": "ipython3",
   "version": "3.7.6"
  }
 },
 "nbformat": 4,
 "nbformat_minor": 4
}
